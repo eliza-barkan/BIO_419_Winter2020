{
 "cells": [
  {
   "cell_type": "markdown",
   "metadata": {},
   "source": [
    "# Lab 3: Functions and matrix algebra\n",
    "**Data Science for Biologists** &#8226; University of Washington &#8226; BIOL 419/519 &#8226; Winter 2020\n",
    "\n",
    "Course design and lecture material by [Bingni Brunton](https://github.com/bwbrunton) and [Kameron Harris](https://github.com/kharris/). Lab design and materials by Eleanor Lutz and Eliza Barkan.\n",
    "\n",
    "### Table of Contents\n",
    "1. Matrix algebra in Python\n",
    "2. Practice indexing matrices\n",
    "3. More practice with functions\n",
    "4. Bonus exercises\n",
    "\n",
    "### Helpful Resources\n",
    "- [A Primer on Matrices](https://see.stanford.edu/materials/lsoeldsee263/Additional1-notes-matrix-primer.pdf) by Stephen Boyd\n",
    "- [Python Data Science Handbook](http://shop.oreilly.com/product/0636920034919.do) by Jake VanderPlas\n",
    "- [Python Basics Cheat Sheet](https://datacamp-community-prod.s3.amazonaws.com/e30fbcd9-f595-4a9f-803d-05ca5bf84612) by Python for Data Science\n",
    "- [Jupyter Notebook Cheat Sheet](https://datacamp-community-prod.s3.amazonaws.com/48093c40-5303-45f4-bbf9-0c96c0133c40) by Python for Data Science\n",
    "- [Numpy Cheat Sheet](https://datacamp-community-prod.s3.amazonaws.com/e9f83f72-a81b-42c7-af44-4e35b48b20b7) by Python for Data Science\n",
    "\n",
    "## Lab 3 Part 1: Matrix algebra in Python\n",
    "\n",
    "In Python we can do matrix algebra without having to calculate each value by hand. Given the numpy arrays `A` and `B`, `A+B` or `A-B` returns the elementwise addition or subtraction, and `A*B` returns the elementwise multiplication. *Elementwise* operations are performed on two matrices of the exact same shape, and produces an output matrix that also has the same dimensions. In elementwise addition, each value from matrix `A` is added to the single value in matrix `B` that is in the same position. Similarly, elementwise multiplication multiplies each value in `A` by the corresponding value in `B`. \n",
    "\n",
    "The elementwise addition for the following two matrices `A` and `B`, (calculated in Python as `A+B` ), looks like this:\n",
    "![Elementwise addition figure](figures/matrices_1.jpg)\n",
    "\n",
    "A **matrix product** is different from elementwise matrix multiplication. A matrix product calculates the product of each value in the *rows* of the first matrix against the *columns* of the second matrix. Matrix products can only be calculated if the **number of columns in the first matrix equals the number of rows of the second matrix**. \n",
    "\n",
    "The matrix product for `A` and `B` looks like this:\n",
    "![Matrix product figure](figures/matrices_2.jpg)\n",
    "\n",
    "To calculate the matrix product for `A` and `B` in Python, we use the function `np.dot(A, B)`:"
   ]
  },
  {
   "cell_type": "code",
   "execution_count": null,
   "metadata": {},
   "outputs": [],
   "source": [
    "import numpy as np"
   ]
  },
  {
   "cell_type": "code",
   "execution_count": null,
   "metadata": {},
   "outputs": [],
   "source": [
    "A = np.array([[0, 1], \n",
    "              [2, 3]])\n",
    "B = np.array([[4, 5], \n",
    "              [6, 7]])\n",
    "\n",
    "print(np.dot(A,B))"
   ]
  },
  {
   "cell_type": "markdown",
   "metadata": {},
   "source": [
    "Although Python runs all of these calculations without requiring our input, we can also calculate the matrix product the long way in Python. This is probably not something you'll need to do in your research, but it's a good learning exercise to practice array indexing and matrix algebra. \n",
    "\n",
    "To use array indexing to calculate each value in the `AB` matrix product, this is what we need to type in Python:"
   ]
  },
  {
   "cell_type": "code",
   "execution_count": null,
   "metadata": {},
   "outputs": [],
   "source": [
    "output = np.zeros([2, 2])\n",
    "output[0, 0] = A[0, 0]*B[0, 0] + A[0, 1]*B[1, 0]\n",
    "output[0, 1] = A[0, 0]*B[0, 1] + A[0, 1]*B[1, 1]\n",
    "output[1, 0] = A[1, 0]*B[0, 0] + A[1, 1]*B[1, 0]\n",
    "output[1, 1] = A[1, 0]*B[0, 1] + A[1, 1]*B[1, 1]\n",
    "print(output)"
   ]
  },
  {
   "cell_type": "markdown",
   "metadata": {},
   "source": [
    "**Exercise 1:** To practice indexing and matrix algebra, go through a similar process for the equation `A - B`. Your code should create a new matrix called `output` of the correct size, and then fill each value in the `output` matrix individually using indexing. When you are finished, check that your answer matches the Numpy matrix `A-B`. "
   ]
  },
  {
   "cell_type": "code",
   "execution_count": null,
   "metadata": {},
   "outputs": [],
   "source": [
    "A = np.array([[0, 1], \n",
    "              [2, 3]])\n",
    "B = np.array([[4, 5], \n",
    "              [6, 7]])\n",
    "\n",
    "# Your code here\n"
   ]
  },
  {
   "cell_type": "code",
   "execution_count": null,
   "metadata": {},
   "outputs": [],
   "source": [
    "print(A - B)"
   ]
  },
  {
   "cell_type": "markdown",
   "metadata": {},
   "source": [
    "## Lab 3 Part 2: Practice indexing matrices\n",
    "\n",
    "So far we have learned how to use for loops to iterate over 1 dimensional lists and we have learned how to index 2 dimensional matrices. **Combine** these two skills and practice indexing 2 dimensional matrices in a for loop.\n"
   ]
  },
  {
   "cell_type": "markdown",
   "metadata": {},
   "source": [
    "**Exercise 2:** Create a new function called `sum_col` that will input a matrix of any dimension and return a list that is the sum of all columns in the input matrix.\n"
   ]
  },
  {
   "cell_type": "code",
   "execution_count": null,
   "metadata": {},
   "outputs": [],
   "source": [
    "# Your code here\n"
   ]
  },
  {
   "cell_type": "code",
   "execution_count": null,
   "metadata": {},
   "outputs": [],
   "source": [
    "# define an input matrix to test your function\n",
    "C = np.array([[7, 3], \n",
    "              [10, 5]])\n",
    "\n",
    "# call function and test input matrix\n",
    "\n"
   ]
  },
  {
   "cell_type": "markdown",
   "metadata": {},
   "source": [
    "**Exercise 3:** Modify your function from Exercise 2 to ouput a list that is the sum of all rows in the input matrix. Rename this function `sum_row`.\n"
   ]
  },
  {
   "cell_type": "code",
   "execution_count": null,
   "metadata": {},
   "outputs": [],
   "source": [
    "# Your code here\n"
   ]
  },
  {
   "cell_type": "code",
   "execution_count": null,
   "metadata": {},
   "outputs": [],
   "source": [
    "# define an input matrix to test your function\n",
    "C = np.array([[7, 3], \n",
    "              [10, 5]])\n",
    "\n",
    "# call function and test input matrix\n"
   ]
  },
  {
   "cell_type": "markdown",
   "metadata": {},
   "source": [
    "## Lab 3 Part 3: More practice with functions\n",
    "\n",
    "Functions enclose a set of operations into a package that can be easily reused. We have already been using functions imported from other libraries many times throughout the quarter. For example, `np.mean(x)` is a function that returns the mean of variable `x` and `np.median(x)` is another function that returns the median. Functions can do many things, from calculating statistics to plotting figures. In the Matplotlib library, `plt.hist(x)` is a function that returns a histogram of values in variable `x`. \n",
    "\n",
    "If you were to write your own version of the `np.sum()` function, it might look something like this:\n"
   ]
  },
  {
   "cell_type": "code",
   "execution_count": null,
   "metadata": {},
   "outputs": [],
   "source": [
    "# Define a function that sums a list of numbers.\n",
    "def sum_values(values):\n",
    "    sum_of_values = 0\n",
    "    \n",
    "    for value in values:\n",
    "        sum_of_values = sum_of_values + value\n",
    "    \n",
    "    return sum_of_values\n"
   ]
  },
  {
   "cell_type": "markdown",
   "metadata": {},
   "source": [
    "After defining the function by running the code block above, we can use our function to calculate the sum of any list of values:"
   ]
  },
  {
   "cell_type": "code",
   "execution_count": null,
   "metadata": {},
   "outputs": [],
   "source": [
    "print(sum_values([0, 1, 2]))\n",
    "print(sum_values([-2, -5, -6]))\n",
    "print(sum_values([100, 100, 100]))\n",
    "print(sum_values([2]))\n"
   ]
  },
  {
   "cell_type": "markdown",
   "metadata": {},
   "source": [
    "**Exercise 4:** Modify the function `sum_values` to return the mean of a list of values."
   ]
  },
  {
   "cell_type": "code",
   "execution_count": null,
   "metadata": {},
   "outputs": [],
   "source": [
    "# Your code here\n"
   ]
  },
  {
   "cell_type": "code",
   "execution_count": null,
   "metadata": {},
   "outputs": [],
   "source": [
    "# test function on different lists\n"
   ]
  },
  {
   "cell_type": "markdown",
   "metadata": {},
   "source": [
    "We can also use the np.mean() function to calculate the mean of a list but it can do more than that..."
   ]
  },
  {
   "cell_type": "markdown",
   "metadata": {},
   "source": [
    "**Exercise 5:** Compute the mean across all rows of matrix C using np.mean(). Save the row means to a list and print that list. Hint: check out the documentation for the np.mean() function.\n"
   ]
  },
  {
   "cell_type": "code",
   "execution_count": null,
   "metadata": {},
   "outputs": [],
   "source": [
    "C = np.array([[7, 3, 4, 9, 10], \n",
    "              [10, 5, 18, 17, 20]])"
   ]
  },
  {
   "cell_type": "code",
   "execution_count": null,
   "metadata": {},
   "outputs": [],
   "source": [
    "# Your code here\n"
   ]
  },
  {
   "cell_type": "markdown",
   "metadata": {},
   "source": [
    "**Exercise 6:** Compute the mean across all columns of matrix C using np.mean(). Save the means to a list and print that list. Print this list. Hint: check out the documentation for the np.mean() function.\n"
   ]
  },
  {
   "cell_type": "code",
   "execution_count": null,
   "metadata": {},
   "outputs": [],
   "source": [
    "# Your code here\n"
   ]
  },
  {
   "cell_type": "markdown",
   "metadata": {},
   "source": [
    "# Lab 3 Bonus exercises"
   ]
  },
  {
   "cell_type": "markdown",
   "metadata": {},
   "source": [
    "Boolean values are **True** or **False**. We can use conditional statements to create matrices of boolean values. For example:\n"
   ]
  },
  {
   "cell_type": "code",
   "execution_count": null,
   "metadata": {},
   "outputs": [],
   "source": [
    "D = np.array([[1, 3, 4, 2, 2, 7],\n",
    "              [5, 2, 2, 1, 4, 1],\n",
    "              [3, 3, 2, 2, 1, 1]])\n",
    "\n",
    "# print matrix of boolean values\n",
    "print(D>5)"
   ]
  },
  {
   "cell_type": "markdown",
   "metadata": {},
   "source": [
    "**Bonus Exercise 1:** Create a function where you input a matrix and a value n, output a matrix of boolean values that is True if the value in the matrix is greater than or equal to the input value n and False if the value in the matrix is less than the input value n.\n"
   ]
  },
  {
   "cell_type": "code",
   "execution_count": null,
   "metadata": {},
   "outputs": [],
   "source": [
    "# Your code here\n"
   ]
  },
  {
   "cell_type": "markdown",
   "metadata": {},
   "source": [
    "**Bonus Exercise 2:** Write a function that calculates the elementwise sum of any two Numpy arrays. Your function should also check that both matrices are the same size, and print an error message if this is not the case. "
   ]
  },
  {
   "cell_type": "code",
   "execution_count": null,
   "metadata": {},
   "outputs": [],
   "source": [
    "# Your code here\n"
   ]
  }
 ],
 "metadata": {
  "kernelspec": {
   "display_name": "Python 3",
   "language": "python",
   "name": "python3"
  },
  "language_info": {
   "codemirror_mode": {
    "name": "ipython",
    "version": 3
   },
   "file_extension": ".py",
   "mimetype": "text/x-python",
   "name": "python",
   "nbconvert_exporter": "python",
   "pygments_lexer": "ipython3",
   "version": "3.6.8"
  }
 },
 "nbformat": 4,
 "nbformat_minor": 2
}
