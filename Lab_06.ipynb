{
 "cells": [
  {
   "cell_type": "markdown",
   "metadata": {},
   "source": [
    "# Lab 6: Applied Markov Models\n",
    "**Data Science for Biologists** &#8226; University of Washington &#8226; BIOL 419/519 &#8226; Winter 2020\n",
    "\n",
    "Course design and lecture material by [Bingni Brunton](https://github.com/bwbrunton) and [Kameron Harris](https://github.com/kharris/). Lab design and materials by Eliza Barkan with helpful comments and suggestions from Bing.\n",
    "\n",
    "### Table of Contents\n",
    "1. Constructing a Markov Model\n",
    "2. Simulating Herd Immunity\n",
    "3. Visualizing Data with Seaborn\n",
    "4. Bonus exercises Visualizing Data with Seaborn\n",
    "\n",
    "### Helpful resources\n",
    "- [Video Introduction to Markov Models](https://www.youtube.com/watch?v=EqUfuT3CC8s) by Lane Votapka\n",
    "- [Introduction to Markov Models](https://towardsdatascience.com/introduction-to-markov-chains-50da3645a50d) by Devin Soni\n",
    "- [What is a Markov Model?](https://hackernoon.com/from-what-is-a-markov-model-to-here-is-how-markov-models-work-1ac5f4629b71) by Alexander Dejeu\n",
    "- [Generating Survival Curves from Study Data: An Application for Markov Models](https://mbounthavong.com/blog/tag/Markov+model) by Mark Bounthavong\n",
    "- [Video explanation of Eigenvectors](https://www.youtube.com/watch?v=HvXe4rTGCQo)\n",
    "- [Seaborn Documentation](https://seaborn.pydata.org/)\n",
    "- [Seaborn Examples](https://seaborn.pydata.org/examples/index.html)\n",
    "- [Seaborn Tutorials](https://seaborn.pydata.org/tutorial.html)\n",
    "\n",
    "\n",
    "### Data\n",
    "- Part 1&2 data is a simulation of a viral infection created by Eliza for teaching purposes. \n",
    "- Part 3 data is from the iris dataset directly from [Kaggle](https://www.kaggle.com/uciml/iris)\n"
   ]
  },
  {
   "cell_type": "code",
   "execution_count": null,
   "metadata": {},
   "outputs": [],
   "source": [
    "import pandas as pd\n",
    "import numpy as np\n",
    "import matplotlib.pyplot as plt\n",
    "%matplotlib inline"
   ]
  },
  {
   "cell_type": "markdown",
   "metadata": {},
   "source": [
    "### Lab 6 Part 1: Constructing a Markov Model\n",
    "In class this week, we learned how to use a Markov Model to predict future weather **given** that we know the current weather. The following is a visualization of a markov model of the common cold. We learned that the probabilities of an observation tomorrow is entirely dependent on what is observed today. \n",
    "\n",
    "About half of common colds are caused by the rhinovirus. The common cold is normally a mild illness that resolves without treatment in a few days. Because so few people die of the common cold, the markov model contains only three states, healthy without immunity, sick or recovered (with immunity). You may assume that the transition probabilities is **per week**.\n",
    "\n",
    "**Note:** To have images appear in your notebook, you must use a Jupyer Notebook and have the image file in the same directory as Lab_06.ipynb.\n",
    "\n",
    "![Three State Markov Model](3_state_model.png)\n",
    "\n",
    "Recall how to fill in the matrix from class this week:\n",
    "\n",
    "![Matrix Construction](matrix_construction.png)\n",
    "\n",
    "**Exercise 1:** Using the given markov Model above, construct an A matrix containing the transition probabilities. Remember that columns must sum to 1.\n"
   ]
  },
  {
   "cell_type": "code",
   "execution_count": null,
   "metadata": {},
   "outputs": [],
   "source": [
    "### FILL IN MATRIX A\n",
    "A = np.array([[    ],\n",
    "             [     ],\n",
    "             [     ]])\n"
   ]
  },
  {
   "cell_type": "markdown",
   "metadata": {},
   "source": [
    "Let's pretend there is a particular rhinovirus going around Seattle right now. There are a total of **750,000** people in Seattle and we want to know **how many people will have this specific common cold virus two years from now.** Say that **1%** of the Seattle population is sick this week with the common cold and **5%** of the Seattle population have already had the common cold so they have immunity to it.\n",
    "\n",
    "**Exercise 2:** Calculate how many people are healthy, sick and recovered this week."
   ]
  },
  {
   "cell_type": "code",
   "execution_count": null,
   "metadata": {},
   "outputs": [],
   "source": [
    "## YOUR CALCULATIONS HERE\n"
   ]
  },
  {
   "cell_type": "markdown",
   "metadata": {},
   "source": [
    "**Exercise 3:** Create a function that will predict how many people will have the common cold in k weeks. Your **function** should contain the following three inputs:\n",
    "1. Matrix A\n",
    "2. The matrix containing the number of people you calculate from Exercide 2 who are currently healthy (and lack immunity), sick and recovered (with immunity)\n",
    "3. The k number of weeks in the future that you want to predict. We can assume that each year is 52 weeks.\n",
    "\n",
    "Your function should return a list or array of matrices, containing the predictions for each week up to and including k.\n",
    "\n",
    "**Use your function to determine how many people will be sick with this exact virus two years from now.**\n",
    "\n"
   ]
  },
  {
   "cell_type": "code",
   "execution_count": null,
   "metadata": {},
   "outputs": [],
   "source": [
    "def markov_model(A, current, k):\n",
    "    ## DEFINE FUNCTION HERE\n",
    "    \n",
    "    \n",
    "    return probs\n"
   ]
  },
  {
   "cell_type": "code",
   "execution_count": null,
   "metadata": {},
   "outputs": [],
   "source": [
    "### DETERMINE HOW MANY PEOPLE WILL BE SICK IN TWO YEARS\n",
    "current = np.array([[cur_health], [cur_sick], [cur_imm]])\n",
    "k = 104\n",
    "\n",
    "# call your function\n"
   ]
  },
  {
   "cell_type": "markdown",
   "metadata": {},
   "source": [
    "### Visualize your Data with Seaborn\n",
    "\n",
    "Seaborn is python package you can import that specializes in data visualization. It works similarly to matplotlib, however it is more popular in the python data science community. It is often imported as sns: `import seaborn as sns`.\n",
    "\n",
    "Read more about [Seaborn Documentation](https://seaborn.pydata.org/)\n",
    "\n",
    "Similar to matplotlib, we can use seaborn to make a line plot of our data to see how the predicted number of people changed over two years.\n"
   ]
  },
  {
   "cell_type": "code",
   "execution_count": null,
   "metadata": {},
   "outputs": [],
   "source": [
    "import seaborn as sns"
   ]
  },
  {
   "cell_type": "markdown",
   "metadata": {},
   "source": [
    "**Exercise 4:** Make a line plot of the data to see how the predicted number of people changed over two years.\n"
   ]
  },
  {
   "cell_type": "code",
   "execution_count": null,
   "metadata": {},
   "outputs": [],
   "source": [
    "# Modify if this if you did not use hstack in your function\n",
    "healthy = probs[0]\n",
    "sick = probs[1]\n",
    "recovered = probs[2]\n"
   ]
  },
  {
   "cell_type": "code",
   "execution_count": null,
   "metadata": {},
   "outputs": [],
   "source": [
    "# Plot using seaborn\n",
    "ax = sns.lineplot(np.arange(len(sick)), y=sick, color = \"orange\", label = \"Sick\")\n",
    "ax = sns.lineplot(np.arange(len(healthy)), y=healthy, color = \"green\", label = \"Healthy\")\n",
    "ax = sns.lineplot(np.arange(len(recovered)), y= recovered,  color = \"blue\", label = \"Recovered\")\n",
    "ax.set(xlabel='Weeks', ylabel='Number of People')\n",
    "sns.set(style=\"white\")\n",
    "ax.legend()\n"
   ]
  },
  {
   "cell_type": "markdown",
   "metadata": {},
   "source": [
    "### Lab 6 Part 2: Plotting Herd Immunity\n",
    "\n",
    "Herd immunity is a form of immunity that occurs when the vaccination of a significant portion of a population (or herd) provides a measure of protection for individuals who have not developed immunity. It arises when a high percentage of the population is protected through vaccination against a virus or bacteria, making it difficult for a disease to spread because there are so few susceptible people left to infect. Since there are transition probabilities for each disease, the proportion of the population which must be immunised in order to achieve herd immunity **varies for each disease**. Still, the underlying idea of herd immunity is simple: once enough people are protected, they help to protect vulnerable members of their communities by reducing the spread of the disease.\n",
    "\n",
    "Credit: [What is Herd Immunity?](https://www.vaccinestoday.eu/stories/what-is-herd-immunity/)\n",
    "\n",
    "In class, we talked about how markov models are used by epidemiologists to model disease. **Take a look at this [simulation](http://rocs.hu-berlin.de/D3/herd/) that uses an SIR model!**\n",
    "\n",
    "**Exercise 5:** Using your function you made in Exercise 2, plot the number of people who are sick as a function of the number of people who start out \"vaccinated\" (in the recovered/with immunity category) out of the total population. \n",
    "\n",
    "You may use the following code in your function to calculate how many people are in each category at a given time\n",
    "\n",
    "`cur_imm = perc*pop`\n",
    "\n",
    "`cur_sick = (pop-cur_imm)*infect_rate`\n",
    "\n",
    "`cur_health = pop-(cur_sick + cur_imm)`\n"
   ]
  },
  {
   "cell_type": "code",
   "execution_count": null,
   "metadata": {
    "scrolled": true
   },
   "outputs": [],
   "source": [
    "percent_vac = np.arange(.0,1.01,.01)\n",
    "k = 104\n",
    "pop = 750000\n",
    "infect_rate = 0.01\n",
    "sick = []\n",
    "\n",
    "### YOUR CODE HERE\n"
   ]
  },
  {
   "cell_type": "code",
   "execution_count": null,
   "metadata": {},
   "outputs": [],
   "source": [
    "# plot number of people sick after two years as a function of the number who start as vaccinated\n",
    "ax = sns.lineplot(np.arange(len(sick)), y=sick, color = \"orange\", label = \"Sick\")\n",
    "ax.set(xlabel='% Vaccinated', ylabel='Number of People Sick')\n",
    "ax.set_yscale(\"log\")\n",
    "sns.set(style=\"white\")\n",
    "ax.legend()\n"
   ]
  },
  {
   "cell_type": "markdown",
   "metadata": {},
   "source": [
    "### Lab 6 Part 3: Visualizing Data with Seaborn\n",
    "\n",
    "Let's practice visualizing data with [Seaborn](https://seaborn.pydata.org/)! Many of the commands are a bit different from matplotlib but some parameters make plotting data much easier than in matplotlib. Because of this, Seaborn may be really useful to use on your project.\n",
    "\n",
    "Let's start by reading in the iris dataset that we used in previous labs. This dataset is reformatted from prior labs so you will need to download it from Lab 6 files on canvas. This is a standard dataset that is used in many data visualization demos. If you take a look at the [Seaborn Examples](https://seaborn.pydata.org/examples/index.html), you may notice it is used quite a bit!\n",
    "\n",
    "![Iris_flower_types](iris_flowers.png)\n",
    "\n",
    "[Image Source](https://thegoodpython.com/iris-dataset/)\n"
   ]
  },
  {
   "cell_type": "markdown",
   "metadata": {},
   "source": [
    "**To import the data:** \n",
    "\n",
    "**Option 1** Download and install [Anaconda Navigator](https://www.anaconda.com/distribution/) to use an Anaconda Jupyter notebook. It works just like Google Colaboratory but you can much more easily import files directly from your local computer.\n",
    "\n",
    "**Option 2** Access files from Google Drive (using Google Colaboratory)\n",
    "1. Put files Iris.csv on your Google Drive\n",
    "2. Mount drive by selecting the file icon on the left and selecting \"Mount Drive\"\n",
    "3. Run the cell it creates and follow the links to get access to files on your Google Drive\n",
    "4. In a new cell, use \"cd\" (change directory) to go into a directory (aka a folder) or \"ls\" to see what is in the directory (aka a folder) that you are currently in. Continue using cd/ls to get to the folder on your Google Drive that contains these two csv files. If you get stuck, you can use \"cd ..\" to go backwards.\n",
    "5. You may then continue with the lab, starting with running pd.read_csv(filename)\n",
    "\n",
    "**Option 3** Open files from your local file system (using Google Colaboratory)\n",
    "1. Select <> icon above the file icon on the left side bar. \n",
    "2. Scroll through options until you get to \"Open files from your local file system,\" select this option and run the cell it creates. Find the files on your local computer\n",
    "3. You may then continue with the lab, starting with running pd.read_csv(filename)"
   ]
  },
  {
   "cell_type": "code",
   "execution_count": null,
   "metadata": {},
   "outputs": [],
   "source": [
    "df = pd.read_csv(\"enter_your_filepath_here\")\n",
    "df.head()"
   ]
  },
  {
   "cell_type": "markdown",
   "metadata": {},
   "source": [
    "We can make a box plot and violin plot of sepal lengths by species using seaborn."
   ]
  },
  {
   "cell_type": "code",
   "execution_count": null,
   "metadata": {},
   "outputs": [],
   "source": [
    "sns.boxplot(\"Species\", \"SepalLengthCm\", data=df)"
   ]
  },
  {
   "cell_type": "markdown",
   "metadata": {},
   "source": [
    "We can make a violin plot to visualize distribution of sepal lengths by species using seaborn."
   ]
  },
  {
   "cell_type": "code",
   "execution_count": null,
   "metadata": {},
   "outputs": [],
   "source": [
    "sns.violinplot(\"Species\", \"SepalLengthCm\", data=df)"
   ]
  },
  {
   "cell_type": "markdown",
   "metadata": {},
   "source": [
    "We can easily make a scatter plot in Seaborn and color the dots by species with the parameter `hue`. "
   ]
  },
  {
   "cell_type": "code",
   "execution_count": null,
   "metadata": {},
   "outputs": [],
   "source": [
    "myPlot = sns.relplot(x=\"SepalLengthCm\", y=\"SepalWidthCm\", hue=\"Species\", height=5, data=df)\n",
    "myPlot.set_axis_labels(\"Sepal length (cm)\", \"Sepal width (cm)\")\n"
   ]
  },
  {
   "cell_type": "markdown",
   "metadata": {},
   "source": [
    "**Exercise 6:** Recreate the scatter plot above using seaborn's [lmplot](https://seaborn.pydata.org/generated/seaborn.lmplot.html#seaborn.lmplot) function. Plot a regression model of the data. Hint: do not plot a linear regression."
   ]
  },
  {
   "cell_type": "code",
   "execution_count": null,
   "metadata": {},
   "outputs": [],
   "source": []
  },
  {
   "cell_type": "markdown",
   "metadata": {},
   "source": [
    "We can subset the dataframe to remove the ID column and then plot all variables by all variables in Seaborn. **What type of patterns do you notice?**"
   ]
  },
  {
   "cell_type": "code",
   "execution_count": null,
   "metadata": {},
   "outputs": [],
   "source": [
    "# subset dataframe to remove ID\n",
    "df_subset = df.loc[:,\"SepalLengthCm\":]\n",
    "sns.pairplot(df_subset, hue=\"Species\")\n"
   ]
  },
  {
   "cell_type": "markdown",
   "metadata": {},
   "source": [
    "Review the seaborn example for [plotting a heatmap of a correlation matrix from a data frame](https://seaborn.pydata.org/examples/many_pairwise_correlations.html).\n",
    "\n",
    "We can create a correlation matrix of all iris attributes and plot the corresponding matrix as a heatmap using the example above as your template.\n"
   ]
  },
  {
   "cell_type": "code",
   "execution_count": null,
   "metadata": {},
   "outputs": [],
   "source": [
    "sns.set(style=\"white\")\n",
    "\n",
    "# Compute the correlation matrix\n",
    "corr = df_subset.corr()\n",
    "\n",
    "# Generate a mask for the upper triangle\n",
    "mask = np.zeros_like(corr, dtype=np.bool)\n",
    "mask[np.triu_indices_from(mask)] = True\n",
    "\n",
    "# Set up the matplotlib figure\n",
    "f, ax = plt.subplots(figsize=(11, 9))\n",
    "\n",
    "# Generate a custom diverging colormap\n",
    "cmap = sns.diverging_palette(220, 10, as_cmap=True)\n",
    "\n",
    "# Draw the heatmap with the mask and correct aspect ratio\n",
    "sns.heatmap(corr, mask=mask, cmap=cmap, vmax=.3, center=0,\n",
    "            square=True, linewidths=.5, cbar_kws={\"shrink\": .5})"
   ]
  },
  {
   "cell_type": "markdown",
   "metadata": {},
   "source": [
    "### Tidy or long-form data is a data format where the number of columns is reduced to make analysis and visualization easier. \n",
    "\n",
    "Here is a table of two men's blood pressure and weight reformatted into a tidy format. You can see now there are only two columns: one called \"Measurement\" that describes the type of measurement and one called \"value\", which is the data value.\n",
    "\n",
    "![tidy_data](tidy_data.png)\n",
    "\n",
    "[Image Source](https://cmdlinetips.com/2019/06/reshaping-dataframes-with-pandas-melt-and-wide_to_long/)\n"
   ]
  },
  {
   "cell_type": "code",
   "execution_count": null,
   "metadata": {},
   "outputs": [],
   "source": [
    "# \"Melt\" the dataset to \"long-form\" or \"tidy\" representation\n",
    "melt_df = pd.melt(df_subset, \"Species\", var_name=\"Measurement\")\n",
    "\n",
    "melt_df.head()"
   ]
  },
  {
   "cell_type": "code",
   "execution_count": null,
   "metadata": {},
   "outputs": [],
   "source": [
    "melt_df.tail()"
   ]
  },
  {
   "cell_type": "code",
   "execution_count": null,
   "metadata": {},
   "outputs": [],
   "source": [
    "# Draw a categorical scatterplot to show each observation\n",
    "sns.swarmplot(x=\"Measurement\", y=\"value\", hue=\"Species\",\n",
    "              palette=[\"r\", \"c\", \"y\"], data=melt_df)\n"
   ]
  },
  {
   "cell_type": "markdown",
   "metadata": {},
   "source": [
    "## BONUS EXERCISES\n",
    "\n",
    "You may have noticed in exercise 7 that the non-setosa data is more similar to each other. \n",
    "\n",
    "**Bonus Exercise 1:** Fit a linear model for the non-setosa sepal lengths and widths. You can use the wide form or long form format. \n"
   ]
  },
  {
   "cell_type": "code",
   "execution_count": null,
   "metadata": {},
   "outputs": [],
   "source": [
    "### YOUR CODE HERE\n"
   ]
  },
  {
   "cell_type": "markdown",
   "metadata": {},
   "source": [
    "**Bonus Exercise 2:** Plot the non-setosa data as a scatterplot with seaborn. Plot a line for your model on the same figure."
   ]
  },
  {
   "cell_type": "code",
   "execution_count": null,
   "metadata": {},
   "outputs": [],
   "source": [
    "### YOUR CODE HERE\n"
   ]
  },
  {
   "cell_type": "code",
   "execution_count": null,
   "metadata": {},
   "outputs": [],
   "source": []
  }
 ],
 "metadata": {
  "kernelspec": {
   "display_name": "Python 3",
   "language": "python",
   "name": "python3"
  },
  "language_info": {
   "codemirror_mode": {
    "name": "ipython",
    "version": 3
   },
   "file_extension": ".py",
   "mimetype": "text/x-python",
   "name": "python",
   "nbconvert_exporter": "python",
   "pygments_lexer": "ipython3",
   "version": "3.6.8"
  }
 },
 "nbformat": 4,
 "nbformat_minor": 2
}
